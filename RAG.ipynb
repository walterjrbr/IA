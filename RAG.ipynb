{
 "cells": [
  {
   "cell_type": "markdown",
   "id": "ca107201-39ee-410a-856c-b82864a17b03",
   "metadata": {},
   "source": [
    "### RAG"
   ]
  },
  {
   "cell_type": "code",
   "execution_count": null,
   "id": "14550cbd-1ba7-41ca-b87a-2ad660aac96c",
   "metadata": {},
   "outputs": [],
   "source": []
  },
  {
   "cell_type": "code",
   "execution_count": 23,
   "id": "f10cc4a6-09d2-43e2-9869-9c8447904934",
   "metadata": {},
   "outputs": [
    {
     "name": "stdout",
     "output_type": "stream",
     "text": [
      "Resposta da IA: De acordo com o contexto fornecido, existem oito planetas no sistema solar.\n"
     ]
    }
   ],
   "source": [
    "from sklearn.feature_extraction.text import TfidfVectorizer\n",
    "from sklearn.metrics.pairwise import cosine_similarity\n",
    "import requests\n",
    "\n",
    "# Sua chave da API DeepSeek\n",
    "DEEPSEEK_API_KEY = \"XXXXXXXXXXXXXXXXXXXXX\"\n",
    "\n",
    "# Documentos base (sua base de conhecimento)\n",
    "docs = [\n",
    "    \"O Sol é a estrela no centro do sistema solar.\",\n",
    "    \"A Lua é o único satélite natural da Terra.\",\n",
    "    \"O sistema solar tem oito planetas que orbitam o Sol.\",\n",
    "]\n",
    "\n",
    "# Pergunta do usuário\n",
    "\n",
    "pergunta = \"Quantos planetas existem no sistema solar?\"\n",
    "#pergunta = \"o que é o Sol?\"\n",
    "#pergunta = \"O que é uma abobrinha\"\n",
    "\n",
    "# Recuperação do documento mais relevante via TF-IDF\n",
    "vectorizer = TfidfVectorizer()\n",
    "doc_vectors = vectorizer.fit_transform(docs + [pergunta])\n",
    "similaridades = cosine_similarity(doc_vectors[-1], doc_vectors[:-1])\n",
    "indice_relevante = similaridades.argmax()\n",
    "contexto = docs[indice_relevante]\n",
    "\n",
    "# Prompt reforçado para garantir uso exclusivo do contexto\n",
    "prompt = f\"\"\"\n",
    "Você é um assistente inteligente. Use apenas as informações fornecidas no contexto abaixo para responder à pergunta.\n",
    "\n",
    "Se a resposta não estiver no contexto, responda que você não sabe.\n",
    "\n",
    "Contexto: {docs}\n",
    "\n",
    "Pergunta: {pergunta}\n",
    "\n",
    "Resposta:\n",
    "\"\"\"\n",
    "\n",
    "# Chamada à API DeepSeek\n",
    "url = \"https://api.deepseek.com/v1/chat/completions\"\n",
    "headers = {\n",
    "    \"Authorization\": f\"Bearer {DEEPSEEK_API_KEY}\",\n",
    "    \"Content-Type\": \"application/json\"\n",
    "}\n",
    "payload = {\n",
    "    \"model\": \"deepseek-chat\",\n",
    "    \"messages\": [\n",
    "        {\"role\": \"user\", \"content\": prompt}\n",
    "    ],\n",
    "    \"temperature\": 0.3\n",
    "}\n",
    "\n",
    "response = requests.post(url, headers=headers, json=payload)\n",
    "\n",
    "if response.ok:\n",
    "    resposta = response.json()[\"choices\"][0][\"message\"][\"content\"]\n",
    "    print(\"Resposta da IA:\", resposta)\n",
    "else:\n",
    "    print(\"Erro:\", response.status_code, response.text)\n"
   ]
  },
  {
   "cell_type": "markdown",
   "id": "eb18168e-5394-4c46-9184-c3f64fed693e",
   "metadata": {},
   "source": [
    "### FAISS"
   ]
  },
  {
   "cell_type": "code",
   "execution_count": null,
   "id": "28f5fc20-9e54-41d9-b6b1-94ab41a4a042",
   "metadata": {},
   "outputs": [],
   "source": []
  },
  {
   "cell_type": "code",
   "execution_count": 38,
   "id": "8aa0b5b2-f147-4b57-8d5a-8702adf8e996",
   "metadata": {},
   "outputs": [
    {
     "name": "stdout",
     "output_type": "stream",
     "text": [
      "Resposta da IA: Com base no contexto fornecido, o Sol é a estrela no centro do sistema solar.\n"
     ]
    }
   ],
   "source": [
    "import faiss\n",
    "from sklearn.feature_extraction.text import TfidfVectorizer\n",
    "import numpy as np\n",
    "import requests\n",
    "from sentence_transformers import SentenceTransformer\n",
    "\n",
    "# Chave API DeepSeek\n",
    "DEEPSEEK_API_KEY = \"XXXXXXXXXXXXXXXXXXXXX\"\n",
    "\n",
    "# Base de documentos\n",
    "docs = [\n",
    "    \"O Sol é a estrela no centro do sistema solar.\",\n",
    "    \"A Lua é o único satélite natural da Terra.\",\n",
    "    \"O sistema solar tem oito planetas que orbitam o Sol.\",\n",
    "]\n",
    "\n",
    "# Usaremos embeddings com SentenceTransformer para FAISS\n",
    "model_embed = SentenceTransformer('all-MiniLM-L6-v2')\n",
    "\n",
    "# Gerar embeddings para docs\n",
    "doc_embeddings = model_embed.encode(docs, convert_to_numpy=True)\n",
    "\n",
    "# Construir índice FAISS (L2 normalizado)\n",
    "dimension = doc_embeddings.shape[1]\n",
    "index = faiss.IndexFlatL2(dimension)\n",
    "index.add(doc_embeddings)\n",
    "\n",
    "# Pergunta do usuário\n",
    "\n",
    "# pergunta = \"Quantos planetas existem no sistema solar?\"\n",
    "pergunta = \"o que é o Sol?\"\n",
    "# pergunta = \"O que é uma abobrinha\"\n",
    "\n",
    "\n",
    "# Gerar embedding da pergunta\n",
    "query_embedding = model_embed.encode([pergunta], convert_to_numpy=True)\n",
    "\n",
    "# Recuperar os 2 docs mais relevantes\n",
    "k = 2\n",
    "distances, indices = index.search(query_embedding, k)\n",
    "\n",
    "# Juntar os docs recuperados\n",
    "contexto = \"\\n\".join([docs[i] for i in indices[0]])\n",
    "\n",
    "# Montar prompt reforçado\n",
    "prompt = f\"\"\"\n",
    "Você é um assistente inteligente.\n",
    "\n",
    "Use primeiramente **apenas** as informações fornecidas no contexto abaixo para responder à pergunta.\n",
    "\n",
    "Se a resposta estiver no contexto, responda com base nele.\n",
    "\n",
    "Se a resposta **não estiver no contexto**, responda usando seu próprio conhecimento, mesmo que não esteja no contexto.\n",
    "\n",
    "Contexto: {contexto}\n",
    "\n",
    "Pergunta: {pergunta}\n",
    "\n",
    "Resposta:\n",
    "\"\"\"\n",
    "\n",
    "# Chamada para DeepSeek API\n",
    "url = \"https://api.deepseek.com/v1/chat/completions\"\n",
    "headers = {\n",
    "    \"Authorization\": f\"Bearer {DEEPSEEK_API_KEY}\",\n",
    "    \"Content-Type\": \"application/json\"\n",
    "}\n",
    "payload = {\n",
    "    \"model\": \"deepseek-chat\",\n",
    "    \"messages\": [\n",
    "        {\"role\": \"user\", \"content\": prompt}\n",
    "    ],\n",
    "    \"temperature\": 0.3\n",
    "}\n",
    "\n",
    "response = requests.post(url, headers=headers, json=payload)\n",
    "\n",
    "if response.ok:\n",
    "    resposta = response.json()[\"choices\"][0][\"message\"][\"content\"]\n",
    "    print(\"Resposta da IA:\", resposta)\n",
    "else:\n",
    "    print(\"Erro:\", response.status_code, response.text)\n"
   ]
  },
  {
   "cell_type": "markdown",
   "id": "88026717-aea8-45e1-8259-cfddc8225f0f",
   "metadata": {},
   "source": [
    "### Retrieval\tBusca documentos relevantes\n",
    "### Augmented\tAumenta o conhecimento do modelo com documentos externos\n",
    "### Generation\tGera resposta com base no contexto e conhecimento próprio"
   ]
  },
  {
   "cell_type": "code",
   "execution_count": null,
   "id": "3caada07-3ee1-4928-b966-7b4b25d89f81",
   "metadata": {},
   "outputs": [],
   "source": []
  }
 ],
 "metadata": {
  "kernelspec": {
   "display_name": "Python [conda env:lvq_env]",
   "language": "python",
   "name": "conda-env-lvq_env-py"
  },
  "language_info": {
   "codemirror_mode": {
    "name": "ipython",
    "version": 3
   },
   "file_extension": ".py",
   "mimetype": "text/x-python",
   "name": "python",
   "nbconvert_exporter": "python",
   "pygments_lexer": "ipython3",
   "version": "3.10.17"
  }
 },
 "nbformat": 4,
 "nbformat_minor": 5
}
